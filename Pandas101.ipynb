{
  "nbformat": 4,
  "nbformat_minor": 0,
  "metadata": {
    "colab": {
      "name": "Pandas101.ipynb",
      "provenance": [],
      "collapsed_sections": [],
      "include_colab_link": true
    },
    "kernelspec": {
      "name": "python3",
      "display_name": "Python 3"
    }
  },
  "cells": [
    {
      "cell_type": "markdown",
      "metadata": {
        "id": "view-in-github",
        "colab_type": "text"
      },
      "source": [
        "<a href=\"https://colab.research.google.com/github/stephfz/pandas101/blob/master/Pandas101.ipynb\" target=\"_parent\"><img src=\"https://colab.research.google.com/assets/colab-badge.svg\" alt=\"Open In Colab\"/></a>"
      ]
    },
    {
      "cell_type": "markdown",
      "metadata": {
        "id": "SHRVt6ozAa5S",
        "colab_type": "text"
      },
      "source": [
        "# **(Breve) Introducción al Análisis de Datos con pandas**\n",
        "\n",
        "**¿Qué es Pandas?**\n",
        "Es la librería de Python para el Análisis de Datos o *Python Data Analysis Library*\n",
        "\n",
        "Para la sesión de hoy usaremos el dataset del [Titanic](https://www.kaggle.com/c/titanic/data)"
      ]
    },
    {
      "cell_type": "markdown",
      "metadata": {
        "id": "CNR18YN-D91b",
        "colab_type": "text"
      },
      "source": [
        "# Importación de Librerías y carga de datos"
      ]
    },
    {
      "cell_type": "code",
      "metadata": {
        "id": "nraV-Mn5jTrU",
        "colab_type": "code",
        "colab": {}
      },
      "source": [
        "import pandas as pd\n",
        "import requests\n",
        "import io \n",
        "\n",
        "#nos vamos a importar un dataset\n",
        "url=\"https://raw.githubusercontent.com/datasciencedojo/datasets/master/titanic.csv\"\n",
        "s=requests.get(url).content\n",
        "df_original=pd.read_csv(io.StringIO(s.decode('utf-8')))\n",
        "\n",
        "#Generar una copia just_in_case\n",
        "df = df_original.copy() \n",
        "\n",
        "\n",
        "#explorando un poco la data\n",
        "df.head(5)\n"
      ],
      "execution_count": 0,
      "outputs": []
    },
    {
      "cell_type": "code",
      "metadata": {
        "id": "i7ks5OWX7QW-",
        "colab_type": "code",
        "colab": {}
      },
      "source": [
        "# Tambien podemos ver los ultimos 25 registros\n",
        "df.tail(5)"
      ],
      "execution_count": 0,
      "outputs": []
    },
    {
      "cell_type": "code",
      "metadata": {
        "id": "CyVdTgcmAsby",
        "colab_type": "code",
        "colab": {}
      },
      "source": [
        "#Obteniendo las dimensiones de DataFrame\n",
        "print(df.shape)"
      ],
      "execution_count": 0,
      "outputs": []
    },
    {
      "cell_type": "code",
      "metadata": {
        "id": "6Ea6G5OumWGx",
        "colab_type": "code",
        "colab": {}
      },
      "source": [
        "#Dimensiones de la data, de forma mas comprensible (:\n",
        "rows, columns = df.shape\n",
        "print ('Filas: {0}, Columnas: {1}'.format(rows, columns))"
      ],
      "execution_count": 0,
      "outputs": []
    },
    {
      "cell_type": "code",
      "metadata": {
        "id": "mFesVDUH7ZbG",
        "colab_type": "code",
        "colab": {}
      },
      "source": [
        "# Obteniendo mas informacion sobre el dataset\n",
        "df.info()"
      ],
      "execution_count": 0,
      "outputs": []
    },
    {
      "cell_type": "code",
      "metadata": {
        "id": "0fty-Rho7fn6",
        "colab_type": "code",
        "colab": {}
      },
      "source": [
        "# Podemos ver el tipo de dato por cada columna\n",
        "df.dtypes"
      ],
      "execution_count": 0,
      "outputs": []
    },
    {
      "cell_type": "markdown",
      "metadata": {
        "id": "O3PzhFt4ETGI",
        "colab_type": "text"
      },
      "source": [
        "# Exploración de datos"
      ]
    },
    {
      "cell_type": "code",
      "metadata": {
        "id": "QZiE5B2anlZm",
        "colab_type": "code",
        "colab": {}
      },
      "source": [
        "#Queremos ver la cuenta de datos por columna\n",
        "print(df.count())"
      ],
      "execution_count": 0,
      "outputs": []
    },
    {
      "cell_type": "markdown",
      "metadata": {
        "id": "JNydHTFuBiLk",
        "colab_type": "text"
      },
      "source": [
        "Como parte de la exploración de datos, veamos si es que todas las columnas tienen datos válidos."
      ]
    },
    {
      "cell_type": "code",
      "metadata": {
        "id": "a09OP9Qfn2I-",
        "colab_type": "code",
        "colab": {}
      },
      "source": [
        "#Otra forma de ver contar datos validos por columnas\n",
        "columns = df.columns.tolist()\n",
        "for column in columns:\n",
        "  print('Valores nulos para la columna <{0}> : {1}'.format(column, df[column].isnull().sum()))"
      ],
      "execution_count": 0,
      "outputs": []
    },
    {
      "cell_type": "code",
      "metadata": {
        "id": "msuTed7vCy8a",
        "colab_type": "code",
        "colab": {}
      },
      "source": [
        "# Queremos ver los valores unicos por columna\n",
        "df.nunique()"
      ],
      "execution_count": 0,
      "outputs": []
    },
    {
      "cell_type": "code",
      "metadata": {
        "id": "yt5eecO1sWUG",
        "colab_type": "code",
        "colab": {}
      },
      "source": [
        "# Puedo hacer un preview o head de una columna en particular\n",
        "df['Sex'].head()"
      ],
      "execution_count": 0,
      "outputs": []
    },
    {
      "cell_type": "code",
      "metadata": {
        "id": "02Ze_Nb_BxKV",
        "colab_type": "code",
        "colab": {}
      },
      "source": [
        "# Puedo hacer cuentas por columnas\n",
        "df.Sex.value_counts()"
      ],
      "execution_count": 0,
      "outputs": []
    },
    {
      "cell_type": "code",
      "metadata": {
        "id": "f8-Lolug7568",
        "colab_type": "code",
        "colab": {}
      },
      "source": [
        "# Podemos ordenar una columna determinada \n",
        "df.sort_values('Fare').head(10)"
      ],
      "execution_count": 0,
      "outputs": []
    },
    {
      "cell_type": "code",
      "metadata": {
        "id": "_p2f_3o18HlH",
        "colab_type": "code",
        "colab": {}
      },
      "source": [
        "# Podemos ordenar una columna determinada v2\n",
        "df.sort_values('Fare', ascending = False).head(10)"
      ],
      "execution_count": 0,
      "outputs": []
    },
    {
      "cell_type": "code",
      "metadata": {
        "id": "PmDGnuFZ_Hwq",
        "colab_type": "code",
        "colab": {}
      },
      "source": [
        "# Ordenando una columna con valores NaN\n",
        "df.sort_values(\"Age\", ascending = True, na_position ='last').tail(20)"
      ],
      "execution_count": 0,
      "outputs": []
    },
    {
      "cell_type": "code",
      "metadata": {
        "id": "GphoCaC4zCkr",
        "colab_type": "code",
        "colab": {}
      },
      "source": [
        "#Podemos hacer cuentas por columnas en base a un filtro\n",
        "df.Sex[df.Sex=='female'].count()"
      ],
      "execution_count": 0,
      "outputs": []
    },
    {
      "cell_type": "code",
      "metadata": {
        "id": "6KdxVTy0EcMp",
        "colab_type": "code",
        "colab": {}
      },
      "source": [
        "# Podemos filtrar datos por un valor en especifico\n",
        "df[df[\"Pclass\"] == 3].head(5)"
      ],
      "execution_count": 0,
      "outputs": []
    },
    {
      "cell_type": "code",
      "metadata": {
        "id": "NSFOwBj0uFkO",
        "colab_type": "code",
        "colab": {}
      },
      "source": [
        "# Podemos obtener un subconjunto de datos con cierto filtro y ordenarlo\n",
        "df[df.Fare == 0].sort_values(by='Pclass')\n"
      ],
      "execution_count": 0,
      "outputs": []
    },
    {
      "cell_type": "code",
      "metadata": {
        "id": "fCl19DwB9Vgc",
        "colab_type": "code",
        "colab": {}
      },
      "source": [
        "# Podemos agrupar los datos para obtener una cuenta de los sobrevivientes\n",
        "df.groupby(['Sex', 'Survived'])['Ticket'].count()"
      ],
      "execution_count": 0,
      "outputs": []
    },
    {
      "cell_type": "code",
      "metadata": {
        "id": "ueCqccf3ZShM",
        "colab_type": "code",
        "colab": {}
      },
      "source": [
        "# Obteniendo sub-grupo de datos en base a su indice/rango dentro del dataframe\n",
        "df.iloc[5:10, 3:9]"
      ],
      "execution_count": 0,
      "outputs": []
    },
    {
      "cell_type": "code",
      "metadata": {
        "id": "yPNxUe1g0YT7",
        "colab_type": "code",
        "colab": {}
      },
      "source": [
        "# Obteniendo sub-grupo de datos\n",
        "df.loc[[5,46], ['Sex','Pclass', 'Survived']]"
      ],
      "execution_count": 0,
      "outputs": []
    },
    {
      "cell_type": "code",
      "metadata": {
        "id": "3IEYxQ5asfji",
        "colab_type": "code",
        "colab": {}
      },
      "source": [
        "# Podemos obtener información de indicadores estadísticos del dataframe\n",
        "df.describe()"
      ],
      "execution_count": 0,
      "outputs": []
    },
    {
      "cell_type": "markdown",
      "metadata": {
        "id": "yzwjcG_DEbQh",
        "colab_type": "text"
      },
      "source": [
        "# Transformación de datos"
      ]
    },
    {
      "cell_type": "markdown",
      "metadata": {
        "id": "fqEuc-knJPVH",
        "colab_type": "text"
      },
      "source": [
        "Podemos realizar un rápida transformación de datos para simplificar el análisis y/o posterior agrupación."
      ]
    },
    {
      "cell_type": "code",
      "metadata": {
        "id": "1qFgK69--xQy",
        "colab_type": "code",
        "colab": {}
      },
      "source": [
        "df.head(3)"
      ],
      "execution_count": 0,
      "outputs": []
    },
    {
      "cell_type": "code",
      "metadata": {
        "id": "l06ijIW9rJ2w",
        "colab_type": "code",
        "colab": {}
      },
      "source": [
        "#Transformacion de datos\n",
        "genders = {'male':'M', 'female': 'F'}\n",
        "df['Sex'] = df['Sex'].apply(lambda x : genders[x])\n",
        "df['Sex'].head()"
      ],
      "execution_count": 0,
      "outputs": []
    },
    {
      "cell_type": "markdown",
      "metadata": {
        "id": "fOItrkIiJ0zq",
        "colab_type": "text"
      },
      "source": [
        "En la exploración inicial de datos, pudimos notar que la columna **Age** tiene datos nulos. Para salvar estos datos nulos y poder considerarlos dentro de nuestro dataset, podriamos convertir esos *nulos* al promedio de edades de todo el dataset"
      ]
    },
    {
      "cell_type": "code",
      "metadata": {
        "id": "q1y2TYZW0ATN",
        "colab_type": "code",
        "colab": {}
      },
      "source": [
        "#hacemos una copia del dataframe\n",
        "df_copy = df.copy()\n",
        "#mostrar todos los nulos\n",
        "df.Age.isnull().sum()\n",
        "#Reemplazando valores null por valores medios\n",
        "df['Age'] = df['Age'].fillna(df.Age.mean())"
      ],
      "execution_count": 0,
      "outputs": []
    },
    {
      "cell_type": "code",
      "metadata": {
        "id": "cS--r0Puqxw_",
        "colab_type": "code",
        "colab": {}
      },
      "source": [
        "#Otro Approach\n",
        "#Remover las filas con valores nulos es columna(s) especifica(s)\n",
        "df_copy = df_copy.dropna(subset =['Age'])"
      ],
      "execution_count": 0,
      "outputs": []
    },
    {
      "cell_type": "code",
      "metadata": {
        "id": "i-mDBkM4rqh0",
        "colab_type": "code",
        "colab": {}
      },
      "source": [
        "print( df.shape)\n",
        "print (df_copy.shape)"
      ],
      "execution_count": 0,
      "outputs": []
    },
    {
      "cell_type": "code",
      "metadata": {
        "id": "j26GVQYjuHG0",
        "colab_type": "code",
        "colab": {}
      },
      "source": [
        "df.Age.isnull().sum()"
      ],
      "execution_count": 0,
      "outputs": []
    },
    {
      "cell_type": "markdown",
      "metadata": {
        "id": "ATVHXZHAJlBc",
        "colab_type": "text"
      },
      "source": [
        "# Análisis"
      ]
    },
    {
      "cell_type": "code",
      "metadata": {
        "id": "NbCbwgDZ291r",
        "colab_type": "code",
        "colab": {}
      },
      "source": [
        "#Cuantos sobrevivieron\n",
        "total_survivors = df['Survived'].value_counts()[0]\n",
        "\n",
        "print('Número Total de sobrevivientes: {0}'.format(total_survivors))\n",
        "\n",
        "df.groupby('Sex')[['Survived']].mean()"
      ],
      "execution_count": 0,
      "outputs": []
    },
    {
      "cell_type": "code",
      "metadata": {
        "id": "uOPBcfJpvTEz",
        "colab_type": "code",
        "colab": {}
      },
      "source": [
        "# Tablas Cruzadas, metodo de Libreria no del dataframe\n",
        "# Queremos ver la proporcion de sobrevivientes por sexo\n",
        "pd.crosstab(df.Sex, df.Survived)"
      ],
      "execution_count": 0,
      "outputs": []
    },
    {
      "cell_type": "code",
      "metadata": {
        "id": "ZimyVRBbwEu3",
        "colab_type": "code",
        "colab": {}
      },
      "source": [
        "# Podemos agrupar \n",
        "pclass_gender_survival_rate_df = df.groupby(['Pclass','Sex'])[ 'Survived'].sum()\n",
        "pclass_gender_survival_rate_df"
      ],
      "execution_count": 0,
      "outputs": []
    },
    {
      "cell_type": "code",
      "metadata": {
        "id": "bie_VNHi-wvM",
        "colab_type": "code",
        "colab": {}
      },
      "source": [
        "df_survivors = df[df.Survived == 1]\n",
        "df_survivors.shape"
      ],
      "execution_count": 0,
      "outputs": []
    },
    {
      "cell_type": "code",
      "metadata": {
        "id": "fNr5ptHk_Z5t",
        "colab_type": "code",
        "outputId": "8c4e166e-b840-472d-ff0b-67ae57e66076",
        "colab": {
          "base_uri": "https://localhost:8080/",
          "height": 297
        }
      },
      "source": [
        "df_survivors.describe()"
      ],
      "execution_count": 0,
      "outputs": [
        {
          "output_type": "execute_result",
          "data": {
            "text/html": [
              "<div>\n",
              "<style scoped>\n",
              "    .dataframe tbody tr th:only-of-type {\n",
              "        vertical-align: middle;\n",
              "    }\n",
              "\n",
              "    .dataframe tbody tr th {\n",
              "        vertical-align: top;\n",
              "    }\n",
              "\n",
              "    .dataframe thead th {\n",
              "        text-align: right;\n",
              "    }\n",
              "</style>\n",
              "<table border=\"1\" class=\"dataframe\">\n",
              "  <thead>\n",
              "    <tr style=\"text-align: right;\">\n",
              "      <th></th>\n",
              "      <th>PassengerId</th>\n",
              "      <th>Survived</th>\n",
              "      <th>Pclass</th>\n",
              "      <th>Age</th>\n",
              "      <th>SibSp</th>\n",
              "      <th>Parch</th>\n",
              "      <th>Fare</th>\n",
              "    </tr>\n",
              "  </thead>\n",
              "  <tbody>\n",
              "    <tr>\n",
              "      <th>count</th>\n",
              "      <td>342.000000</td>\n",
              "      <td>342.0</td>\n",
              "      <td>342.000000</td>\n",
              "      <td>290.000000</td>\n",
              "      <td>342.000000</td>\n",
              "      <td>342.000000</td>\n",
              "      <td>342.000000</td>\n",
              "    </tr>\n",
              "    <tr>\n",
              "      <th>mean</th>\n",
              "      <td>444.368421</td>\n",
              "      <td>1.0</td>\n",
              "      <td>1.950292</td>\n",
              "      <td>28.343690</td>\n",
              "      <td>0.473684</td>\n",
              "      <td>0.464912</td>\n",
              "      <td>48.395408</td>\n",
              "    </tr>\n",
              "    <tr>\n",
              "      <th>std</th>\n",
              "      <td>252.358840</td>\n",
              "      <td>0.0</td>\n",
              "      <td>0.863321</td>\n",
              "      <td>14.950952</td>\n",
              "      <td>0.708688</td>\n",
              "      <td>0.771712</td>\n",
              "      <td>66.596998</td>\n",
              "    </tr>\n",
              "    <tr>\n",
              "      <th>min</th>\n",
              "      <td>2.000000</td>\n",
              "      <td>1.0</td>\n",
              "      <td>1.000000</td>\n",
              "      <td>0.420000</td>\n",
              "      <td>0.000000</td>\n",
              "      <td>0.000000</td>\n",
              "      <td>0.000000</td>\n",
              "    </tr>\n",
              "    <tr>\n",
              "      <th>25%</th>\n",
              "      <td>250.750000</td>\n",
              "      <td>1.0</td>\n",
              "      <td>1.000000</td>\n",
              "      <td>19.000000</td>\n",
              "      <td>0.000000</td>\n",
              "      <td>0.000000</td>\n",
              "      <td>12.475000</td>\n",
              "    </tr>\n",
              "    <tr>\n",
              "      <th>50%</th>\n",
              "      <td>439.500000</td>\n",
              "      <td>1.0</td>\n",
              "      <td>2.000000</td>\n",
              "      <td>28.000000</td>\n",
              "      <td>0.000000</td>\n",
              "      <td>0.000000</td>\n",
              "      <td>26.000000</td>\n",
              "    </tr>\n",
              "    <tr>\n",
              "      <th>75%</th>\n",
              "      <td>651.500000</td>\n",
              "      <td>1.0</td>\n",
              "      <td>3.000000</td>\n",
              "      <td>36.000000</td>\n",
              "      <td>1.000000</td>\n",
              "      <td>1.000000</td>\n",
              "      <td>57.000000</td>\n",
              "    </tr>\n",
              "    <tr>\n",
              "      <th>max</th>\n",
              "      <td>890.000000</td>\n",
              "      <td>1.0</td>\n",
              "      <td>3.000000</td>\n",
              "      <td>80.000000</td>\n",
              "      <td>4.000000</td>\n",
              "      <td>5.000000</td>\n",
              "      <td>512.329200</td>\n",
              "    </tr>\n",
              "  </tbody>\n",
              "</table>\n",
              "</div>"
            ],
            "text/plain": [
              "       PassengerId  Survived      Pclass  ...       SibSp       Parch        Fare\n",
              "count   342.000000     342.0  342.000000  ...  342.000000  342.000000  342.000000\n",
              "mean    444.368421       1.0    1.950292  ...    0.473684    0.464912   48.395408\n",
              "std     252.358840       0.0    0.863321  ...    0.708688    0.771712   66.596998\n",
              "min       2.000000       1.0    1.000000  ...    0.000000    0.000000    0.000000\n",
              "25%     250.750000       1.0    1.000000  ...    0.000000    0.000000   12.475000\n",
              "50%     439.500000       1.0    2.000000  ...    0.000000    0.000000   26.000000\n",
              "75%     651.500000       1.0    3.000000  ...    1.000000    1.000000   57.000000\n",
              "max     890.000000       1.0    3.000000  ...    4.000000    5.000000  512.329200\n",
              "\n",
              "[8 rows x 7 columns]"
            ]
          },
          "metadata": {
            "tags": []
          },
          "execution_count": 31
        }
      ]
    },
    {
      "cell_type": "markdown",
      "metadata": {
        "id": "sJNeQ0nl5kdI",
        "colab_type": "text"
      },
      "source": [
        "# About Me\n",
        "[Stephanie Frias](https://about.me/stephaniefrias)\n",
        "\n",
        "```\n",
        "Twitter: @_stephfz_\n",
        "```\n",
        "\n"
      ]
    }
  ]
}